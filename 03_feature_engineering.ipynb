{
 "cells": [
  {
   "cell_type": "markdown",
   "metadata": {},
   "source": [
    "# 零基础入门数据挖掘-Task3 特征工程\n",
    "\n",
    "## 三、 特征工程目标\n",
    "\n",
    "Tip:此部分为零基础入门数据挖掘的 Task3 特征工程 部分，带你来了解各种特征工程以及分析方法，欢迎大家后续多多交流。\n",
    "\n",
    "**赛题：零基础入门数据挖掘 - 二手车交易价格预测**\n",
    "\n",
    "项目地址：https://github.com/datawhalechina/team-learning-data-mining/tree/master/SecondHandCarPriceForecast\n",
    "\n",
    "比赛地址：https://tianchi.aliyun.com/competition/entrance/231784/introduction"
   ]
  },
  {
   "cell_type": "markdown",
   "metadata": {},
   "source": [
    "## 3.1 特征工程目标\n",
    "\n",
    "* 对于特征进行进一步分析，并对于数据进行处理\n",
    "\n",
    "* 完成对于特征工程的分析，并对于数据进行一些图表或者文字总结并打卡。"
   ]
  },
  {
   "cell_type": "markdown",
   "metadata": {},
   "source": [
    "## 3.2  特征工程\n",
    "\n",
    "常见的特征工程包括：\n",
    "\n",
    "### 一、数据清洗\n",
    "    1. 异常处理：\n",
    "        - 通过箱线图（或 3-Sigma）分析删除异常值；\n",
    "        - BOX-COX 转换（处理有偏分布）；\n",
    "        - 长尾截断；\n",
    "    2. 缺失值处理：\n",
    "        - 不处理（针对类似 XGBoost 等树模型）；\n",
    "        - 删除（缺失数据太多）；\n",
    "        - 插值补全，包括均值/中位数/众数/建模预测/多重插补/压缩感知补全/矩阵补全等；\n",
    "        - 分箱，缺失值一个箱；\n",
    "    3. 降维\n",
    "        - PCA/ LDA/ ICA；\n",
    "        - 特征选择也是一种降维。\n",
    "\n",
    "    \n",
    "### 二、特征构造\n",
    "    1.特征衍生\n",
    "        - 构造统计量特征，报告计数、求和、比例、标准差等；\n",
    "        - 时间特征，包括相对时间和绝对时间，节假日，双休日等；\n",
    "        - 地理信息，包括分箱，分布编码等方法；\n",
    "        - 非线性变换，包括 log/ 平方/ 根号等；\n",
    "        - 特征组合，特征交叉。\n",
    "    2. 数据分桶：\n",
    "        - 等频分桶；\n",
    "        - 等距分桶；\n",
    "        - Best-KS 分桶（类似利用基尼指数进行二分类）；\n",
    "        - 卡方分桶；\n",
    "        \n",
    "    \n",
    "### 三、特征变换\n",
    "    1. 特征归一化/标准化：\n",
    "        - 标准化（转换为标准正态分布）；\n",
    "        - 归一化（转换到 [0,1] 区间）；\n",
    "        - 针对幂律分布，可以采用公式： $log(\\frac{1+x}{1+median})$\n",
    "        \n",
    "### 四、特征筛选\n",
    "    - 相关性分析；\n",
    "    - 特征重要性评分；\n"
   ]
  },
  {
   "cell_type": "markdown",
   "metadata": {},
   "source": [
    "## 3.3 代码示例"
   ]
  },
  {
   "cell_type": "markdown",
   "metadata": {},
   "source": [
    "## 3.3.1 数据清洗"
   ]
  },
  {
   "cell_type": "code",
   "execution_count": 11,
   "metadata": {},
   "outputs": [],
   "source": [
    "import pandas as pd\n",
    "import numpy as np\n",
    "import matplotlib\n",
    "import matplotlib.pyplot as plt\n",
    "import seaborn as sns\n",
    "from operator import itemgetter\n",
    "\n",
    "%matplotlib inline"
   ]
  },
  {
   "cell_type": "code",
   "execution_count": 35,
   "metadata": {},
   "outputs": [],
   "source": [
    "## 1) 载入训练集和测试集；\n",
    "train = pd.read_csv('used_car_train_20200313.csv', sep=' ')\n",
    "test = pd.read_csv('used_car_testB_20200421.csv', sep=' ')"
   ]
  },
  {
   "cell_type": "markdown",
   "metadata": {},
   "source": [
    "### 3.3.1.1 删除异常值"
   ]
  },
  {
   "cell_type": "code",
   "execution_count": 36,
   "metadata": {},
   "outputs": [],
   "source": [
    "# 这里我包装了一个异常值处理的代码，可以随便调用。\n",
    "def outliers_proc(data, col_name, scale=3):\n",
    "    \"\"\"\n",
    "    用于清洗异常值，默认用 box_plot（scale=3）进行清洗\n",
    "    :param data: 接收 pandas 数据格式\n",
    "    :param col_name: pandas 列名\n",
    "    :param scale: 尺度\n",
    "    :return:\n",
    "    \"\"\"\n",
    "\n",
    "    def box_plot_outliers(data_ser, box_scale):\n",
    "        \"\"\"\n",
    "        利用箱线图去除异常值\n",
    "        :param data_ser: 接收 pandas.Series 数据格式\n",
    "        :param box_scale: 箱线图尺度，\n",
    "        :return:\n",
    "        \"\"\"\n",
    "        iqr = box_scale * (data_ser.quantile(0.75) - data_ser.quantile(0.25))\n",
    "        val_low = data_ser.quantile(0.25) - iqr\n",
    "        val_up = data_ser.quantile(0.75) + iqr\n",
    "        rule_low = (data_ser < val_low)\n",
    "        rule_up = (data_ser > val_up)\n",
    "        return (rule_low, rule_up), (val_low, val_up)\n",
    "\n",
    "    data_n = data.copy()\n",
    "    data_series = data_n[col_name]\n",
    "    rule, value = box_plot_outliers(data_series, box_scale=scale)\n",
    "    index = np.arange(data_series.shape[0])[rule[0] | rule[1]]\n",
    "    print(\"Delete number is: {}\".format(len(index)))\n",
    "    data_n = data_n.drop(index)\n",
    "    data_n.reset_index(drop=True, inplace=True)\n",
    "    print(\"Now column number is: {}\".format(data_n.shape[0]))\n",
    "    index_low = np.arange(data_series.shape[0])[rule[0]]\n",
    "    outliers = data_series.iloc[index_low]\n",
    "    print(\"Description of data less than the lower bound is:\")\n",
    "    print(pd.Series(outliers).describe())\n",
    "    index_up = np.arange(data_series.shape[0])[rule[1]]\n",
    "    outliers = data_series.iloc[index_up]\n",
    "    print(\"Description of data larger than the upper bound is:\")\n",
    "    print(pd.Series(outliers).describe())\n",
    "    \n",
    "    fig, ax = plt.subplots(1, 2, figsize=(10, 7))\n",
    "    sns.boxplot(y=data[col_name], data=data, palette=\"Set1\", ax=ax[0])\n",
    "    sns.boxplot(y=data_n[col_name], data=data_n, palette=\"Set1\", ax=ax[1])\n",
    "    return data_n"
   ]
  },
  {
   "cell_type": "code",
   "execution_count": 37,
   "metadata": {},
   "outputs": [
    {
     "name": "stdout",
     "output_type": "stream",
     "text": [
      "Delete number is: 963\n",
      "Now column number is: 149037\n",
      "Description of data less than the lower bound is:\n",
      "count    0.0\n",
      "mean     NaN\n",
      "std      NaN\n",
      "min      NaN\n",
      "25%      NaN\n",
      "50%      NaN\n",
      "75%      NaN\n",
      "max      NaN\n",
      "Name: power, dtype: float64\n",
      "Description of data larger than the upper bound is:\n",
      "count      963.000000\n",
      "mean       846.836968\n",
      "std       1929.418081\n",
      "min        376.000000\n",
      "25%        400.000000\n",
      "50%        436.000000\n",
      "75%        514.000000\n",
      "max      19312.000000\n",
      "Name: power, dtype: float64\n"
     ]
    },
    {
     "data": {
      "image/png": "[encoded data removed]",
      "text/plain": [
       "<Figure size 720x504 with 2 Axes>"
      ]
     },
     "metadata": {
      "needs_background": "light"
     },
     "output_type": "display_data"
    }
   ],
   "source": [
    "# 但是要注意 test 的数据不能删 = = 不能掩耳盗铃是不是\n",
    "train = outliers_proc(train, 'power', scale=3)"
   ]
  },
  {
   "cell_type": "markdown",
   "metadata": {},
   "source": [
    "### 3.3.1.2 处理缺失值"
   ]
  },
  {
   "cell_type": "code",
   "execution_count": 38,
   "metadata": {},
   "outputs": [],
   "source": [
    "def missing_data_deal(data):\n",
    "    # 删除\n",
    "    data = data.dropna(subset=['model'])\n",
    "\n",
    "    # 均值填充\n",
    "    data['bodyType'] = data['bodyType'].fillna(data['bodyType'].mean())\n",
    "    data['fuelType'] = data['fuelType'].fillna(data['fuelType'].mean())\n",
    "    data['gearbox'] = data['gearbox'].fillna(data['gearbox'].mean())\n",
    "    return data\n"
   ]
  },
  {
   "cell_type": "markdown",
   "metadata": {},
   "source": [
    "## 3.3.2 特征构造"
   ]
  },
  {
   "cell_type": "code",
   "execution_count": 39,
   "metadata": {},
   "outputs": [],
   "source": [
    "# 训练集和测试集放在一起，方便构造特征\n",
    "train['train']=1\n",
    "test['train']=0\n",
    "data = pd.concat([train, test], ignore_index=True, sort=False)"
   ]
  },
  {
   "cell_type": "markdown",
   "metadata": {},
   "source": [
    "### 3.3.2.1 特征衍生"
   ]
  },
  {
   "cell_type": "code",
   "execution_count": 40,
   "metadata": {},
   "outputs": [
    {
     "data": {
      "text/plain": [
       "0         4385.0\n",
       "1         4757.0\n",
       "2         4382.0\n",
       "3         7125.0\n",
       "4         1531.0\n",
       "           ...  \n",
       "199032    4173.0\n",
       "199033    1079.0\n",
       "199034    4113.0\n",
       "199035    5017.0\n",
       "199036    2459.0\n",
       "Name: used_time, Length: 199037, dtype: float64"
      ]
     },
     "execution_count": 40,
     "metadata": {},
     "output_type": "execute_result"
    }
   ],
   "source": [
    "# 使用时间：data['creatDate'] - data['regDate']，反应汽车使用时间，一般来说价格与使用时间成反比\n",
    "# 不过要注意，数据里有时间出错的格式，所以我们需要 errors='coerce'\n",
    "data['used_time'] = (pd.to_datetime(data['creatDate'], format='%Y%m%d', errors='coerce') - \n",
    "                            pd.to_datetime(data['regDate'], format='%Y%m%d', errors='coerce')).dt.days\n",
    "data['used_time']"
   ]
  },
  {
   "cell_type": "code",
   "execution_count": 41,
   "metadata": {},
   "outputs": [
    {
     "data": {
      "text/plain": [
       "15054"
      ]
     },
     "execution_count": 41,
     "metadata": {},
     "output_type": "execute_result"
    }
   ],
   "source": [
    "# 看一下空数据，有 15k 个样本的时间是有问题的，我们可以选择删除，也可以选择放着。\n",
    "# 但是这里不建议删除，因为删除缺失数据占总样本量过大，7.5%\n",
    "# 我们可以先放着，因为如果我们 XGBoost 之类的决策树，其本身就能处理缺失值，所以可以不用管；\n",
    "data['used_time'].isnull().sum()"
   ]
  },
  {
   "cell_type": "code",
   "execution_count": 42,
   "metadata": {},
   "outputs": [
    {
     "data": {
      "text/plain": [
       "0         1\n",
       "1         4\n",
       "2         2\n",
       "3          \n",
       "4         6\n",
       "         ..\n",
       "199032    5\n",
       "199033    5\n",
       "199034    3\n",
       "199035     \n",
       "199036    4\n",
       "Name: city, Length: 199037, dtype: object"
      ]
     },
     "execution_count": 42,
     "metadata": {},
     "output_type": "execute_result"
    }
   ],
   "source": [
    "# 从邮编中提取城市信息，因为是德国的数据，所以参考德国的邮编，相当于加入了先验知识\n",
    "data['city'] = data['regionCode'].apply(lambda x : str(x)[:-3])\n",
    "data['city']"
   ]
  },
  {
   "cell_type": "code",
   "execution_count": 43,
   "metadata": {
    "scrolled": true
   },
   "outputs": [
    {
     "data": {
      "text/html": [
       "<div>\n",
       "<style scoped>\n",
       "    .dataframe tbody tr th:only-of-type {\n",
       "        vertical-align: middle;\n",
       "    }\n",
       "\n",
       "    .dataframe tbody tr th {\n",
       "        vertical-align: top;\n",
       "    }\n",
       "\n",
       "    .dataframe thead th {\n",
       "        text-align: right;\n",
       "    }\n",
       "</style>\n",
       "<table border=\"1\" class=\"dataframe\">\n",
       "  <thead>\n",
       "    <tr style=\"text-align: right;\">\n",
       "      <th></th>\n",
       "      <th>SaleID</th>\n",
       "      <th>name</th>\n",
       "      <th>regDate</th>\n",
       "      <th>model</th>\n",
       "      <th>brand</th>\n",
       "      <th>bodyType</th>\n",
       "      <th>fuelType</th>\n",
       "      <th>gearbox</th>\n",
       "      <th>power</th>\n",
       "      <th>kilometer</th>\n",
       "      <th>...</th>\n",
       "      <th>train</th>\n",
       "      <th>used_time</th>\n",
       "      <th>city</th>\n",
       "      <th>brand_amount</th>\n",
       "      <th>brand_price_max</th>\n",
       "      <th>brand_price_median</th>\n",
       "      <th>brand_price_min</th>\n",
       "      <th>brand_price_sum</th>\n",
       "      <th>brand_price_std</th>\n",
       "      <th>brand_price_average</th>\n",
       "    </tr>\n",
       "  </thead>\n",
       "  <tbody>\n",
       "    <tr>\n",
       "      <th>0</th>\n",
       "      <td>0</td>\n",
       "      <td>736</td>\n",
       "      <td>20040402</td>\n",
       "      <td>30.0</td>\n",
       "      <td>6</td>\n",
       "      <td>1.0</td>\n",
       "      <td>0.0</td>\n",
       "      <td>0.0</td>\n",
       "      <td>60</td>\n",
       "      <td>12.5</td>\n",
       "      <td>...</td>\n",
       "      <td>1</td>\n",
       "      <td>4385.0</td>\n",
       "      <td>1</td>\n",
       "      <td>10193.0</td>\n",
       "      <td>35990.0</td>\n",
       "      <td>1800.0</td>\n",
       "      <td>13.0</td>\n",
       "      <td>36457518.0</td>\n",
       "      <td>4562.233331</td>\n",
       "      <td>3576.37</td>\n",
       "    </tr>\n",
       "    <tr>\n",
       "      <th>1</th>\n",
       "      <td>1</td>\n",
       "      <td>2262</td>\n",
       "      <td>20030301</td>\n",
       "      <td>40.0</td>\n",
       "      <td>1</td>\n",
       "      <td>2.0</td>\n",
       "      <td>0.0</td>\n",
       "      <td>0.0</td>\n",
       "      <td>0</td>\n",
       "      <td>15.0</td>\n",
       "      <td>...</td>\n",
       "      <td>1</td>\n",
       "      <td>4757.0</td>\n",
       "      <td>4</td>\n",
       "      <td>13656.0</td>\n",
       "      <td>84000.0</td>\n",
       "      <td>6399.0</td>\n",
       "      <td>15.0</td>\n",
       "      <td>124044603.0</td>\n",
       "      <td>8988.865406</td>\n",
       "      <td>9082.86</td>\n",
       "    </tr>\n",
       "    <tr>\n",
       "      <th>2</th>\n",
       "      <td>2</td>\n",
       "      <td>14874</td>\n",
       "      <td>20040403</td>\n",
       "      <td>115.0</td>\n",
       "      <td>15</td>\n",
       "      <td>1.0</td>\n",
       "      <td>0.0</td>\n",
       "      <td>0.0</td>\n",
       "      <td>163</td>\n",
       "      <td>12.5</td>\n",
       "      <td>...</td>\n",
       "      <td>1</td>\n",
       "      <td>4382.0</td>\n",
       "      <td>2</td>\n",
       "      <td>1458.0</td>\n",
       "      <td>45000.0</td>\n",
       "      <td>8500.0</td>\n",
       "      <td>100.0</td>\n",
       "      <td>14373814.0</td>\n",
       "      <td>5425.058140</td>\n",
       "      <td>9851.83</td>\n",
       "    </tr>\n",
       "    <tr>\n",
       "      <th>3</th>\n",
       "      <td>3</td>\n",
       "      <td>71865</td>\n",
       "      <td>19960908</td>\n",
       "      <td>109.0</td>\n",
       "      <td>10</td>\n",
       "      <td>0.0</td>\n",
       "      <td>0.0</td>\n",
       "      <td>1.0</td>\n",
       "      <td>193</td>\n",
       "      <td>15.0</td>\n",
       "      <td>...</td>\n",
       "      <td>1</td>\n",
       "      <td>7125.0</td>\n",
       "      <td></td>\n",
       "      <td>13994.0</td>\n",
       "      <td>92900.0</td>\n",
       "      <td>5200.0</td>\n",
       "      <td>15.0</td>\n",
       "      <td>113034210.0</td>\n",
       "      <td>8244.695287</td>\n",
       "      <td>8076.76</td>\n",
       "    </tr>\n",
       "    <tr>\n",
       "      <th>4</th>\n",
       "      <td>4</td>\n",
       "      <td>111080</td>\n",
       "      <td>20120103</td>\n",
       "      <td>110.0</td>\n",
       "      <td>5</td>\n",
       "      <td>1.0</td>\n",
       "      <td>0.0</td>\n",
       "      <td>0.0</td>\n",
       "      <td>68</td>\n",
       "      <td>5.0</td>\n",
       "      <td>...</td>\n",
       "      <td>1</td>\n",
       "      <td>1531.0</td>\n",
       "      <td>6</td>\n",
       "      <td>4662.0</td>\n",
       "      <td>31500.0</td>\n",
       "      <td>2300.0</td>\n",
       "      <td>20.0</td>\n",
       "      <td>15414322.0</td>\n",
       "      <td>3344.689763</td>\n",
       "      <td>3305.67</td>\n",
       "    </tr>\n",
       "    <tr>\n",
       "      <th>...</th>\n",
       "      <td>...</td>\n",
       "      <td>...</td>\n",
       "      <td>...</td>\n",
       "      <td>...</td>\n",
       "      <td>...</td>\n",
       "      <td>...</td>\n",
       "      <td>...</td>\n",
       "      <td>...</td>\n",
       "      <td>...</td>\n",
       "      <td>...</td>\n",
       "      <td>...</td>\n",
       "      <td>...</td>\n",
       "      <td>...</td>\n",
       "      <td>...</td>\n",
       "      <td>...</td>\n",
       "      <td>...</td>\n",
       "      <td>...</td>\n",
       "      <td>...</td>\n",
       "      <td>...</td>\n",
       "      <td>...</td>\n",
       "      <td>...</td>\n",
       "    </tr>\n",
       "    <tr>\n",
       "      <th>199032</th>\n",
       "      <td>249995</td>\n",
       "      <td>111443</td>\n",
       "      <td>20041005</td>\n",
       "      <td>4.0</td>\n",
       "      <td>4</td>\n",
       "      <td>0.0</td>\n",
       "      <td>NaN</td>\n",
       "      <td>1.0</td>\n",
       "      <td>150</td>\n",
       "      <td>15.0</td>\n",
       "      <td>...</td>\n",
       "      <td>0</td>\n",
       "      <td>4173.0</td>\n",
       "      <td>5</td>\n",
       "      <td>16575.0</td>\n",
       "      <td>99999.0</td>\n",
       "      <td>5999.0</td>\n",
       "      <td>12.0</td>\n",
       "      <td>138279069.0</td>\n",
       "      <td>8089.863295</td>\n",
       "      <td>8342.13</td>\n",
       "    </tr>\n",
       "    <tr>\n",
       "      <th>199033</th>\n",
       "      <td>249996</td>\n",
       "      <td>152834</td>\n",
       "      <td>20130409</td>\n",
       "      <td>65.0</td>\n",
       "      <td>1</td>\n",
       "      <td>0.0</td>\n",
       "      <td>0.0</td>\n",
       "      <td>0.0</td>\n",
       "      <td>179</td>\n",
       "      <td>4.0</td>\n",
       "      <td>...</td>\n",
       "      <td>0</td>\n",
       "      <td>1079.0</td>\n",
       "      <td>5</td>\n",
       "      <td>13656.0</td>\n",
       "      <td>84000.0</td>\n",
       "      <td>6399.0</td>\n",
       "      <td>15.0</td>\n",
       "      <td>124044603.0</td>\n",
       "      <td>8988.865406</td>\n",
       "      <td>9082.86</td>\n",
       "    </tr>\n",
       "    <tr>\n",
       "      <th>199034</th>\n",
       "      <td>249997</td>\n",
       "      <td>132531</td>\n",
       "      <td>20041211</td>\n",
       "      <td>4.0</td>\n",
       "      <td>4</td>\n",
       "      <td>0.0</td>\n",
       "      <td>0.0</td>\n",
       "      <td>1.0</td>\n",
       "      <td>147</td>\n",
       "      <td>12.5</td>\n",
       "      <td>...</td>\n",
       "      <td>0</td>\n",
       "      <td>4113.0</td>\n",
       "      <td>3</td>\n",
       "      <td>16575.0</td>\n",
       "      <td>99999.0</td>\n",
       "      <td>5999.0</td>\n",
       "      <td>12.0</td>\n",
       "      <td>138279069.0</td>\n",
       "      <td>8089.863295</td>\n",
       "      <td>8342.13</td>\n",
       "    </tr>\n",
       "    <tr>\n",
       "      <th>199035</th>\n",
       "      <td>249998</td>\n",
       "      <td>143405</td>\n",
       "      <td>20020702</td>\n",
       "      <td>40.0</td>\n",
       "      <td>1</td>\n",
       "      <td>4.0</td>\n",
       "      <td>0.0</td>\n",
       "      <td>1.0</td>\n",
       "      <td>176</td>\n",
       "      <td>15.0</td>\n",
       "      <td>...</td>\n",
       "      <td>0</td>\n",
       "      <td>5017.0</td>\n",
       "      <td></td>\n",
       "      <td>13656.0</td>\n",
       "      <td>84000.0</td>\n",
       "      <td>6399.0</td>\n",
       "      <td>15.0</td>\n",
       "      <td>124044603.0</td>\n",
       "      <td>8988.865406</td>\n",
       "      <td>9082.86</td>\n",
       "    </tr>\n",
       "    <tr>\n",
       "      <th>199036</th>\n",
       "      <td>249999</td>\n",
       "      <td>78202</td>\n",
       "      <td>20090708</td>\n",
       "      <td>32.0</td>\n",
       "      <td>8</td>\n",
       "      <td>1.0</td>\n",
       "      <td>0.0</td>\n",
       "      <td>0.0</td>\n",
       "      <td>0</td>\n",
       "      <td>3.0</td>\n",
       "      <td>...</td>\n",
       "      <td>0</td>\n",
       "      <td>2459.0</td>\n",
       "      <td>4</td>\n",
       "      <td>2070.0</td>\n",
       "      <td>99999.0</td>\n",
       "      <td>2270.0</td>\n",
       "      <td>30.0</td>\n",
       "      <td>10017173.0</td>\n",
       "      <td>6053.233424</td>\n",
       "      <td>4836.88</td>\n",
       "    </tr>\n",
       "  </tbody>\n",
       "</table>\n",
       "<p>199037 rows × 41 columns</p>\n",
       "</div>"
      ],
      "text/plain": [
       "        SaleID    name   regDate  model  brand  bodyType  fuelType  gearbox  \\\n",
       "0            0     736  20040402   30.0      6       1.0       0.0      0.0   \n",
       "1            1    2262  20030301   40.0      1       2.0       0.0      0.0   \n",
       "2            2   14874  20040403  115.0     15       1.0       0.0      0.0   \n",
       "3            3   71865  19960908  109.0     10       0.0       0.0      1.0   \n",
       "4            4  111080  20120103  110.0      5       1.0       0.0      0.0   \n",
       "...        ...     ...       ...    ...    ...       ...       ...      ...   \n",
       "199032  249995  111443  20041005    4.0      4       0.0       NaN      1.0   \n",
       "199033  249996  152834  20130409   65.0      1       0.0       0.0      0.0   \n",
       "199034  249997  132531  20041211    4.0      4       0.0       0.0      1.0   \n",
       "199035  249998  143405  20020702   40.0      1       4.0       0.0      1.0   \n",
       "199036  249999   78202  20090708   32.0      8       1.0       0.0      0.0   \n",
       "\n",
       "        power  kilometer  ... train  used_time  city  brand_amount  \\\n",
       "0          60       12.5  ...     1     4385.0     1       10193.0   \n",
       "1           0       15.0  ...     1     4757.0     4       13656.0   \n",
       "2         163       12.5  ...     1     4382.0     2        1458.0   \n",
       "3         193       15.0  ...     1     7125.0             13994.0   \n",
       "4          68        5.0  ...     1     1531.0     6        4662.0   \n",
       "...       ...        ...  ...   ...        ...   ...           ...   \n",
       "199032    150       15.0  ...     0     4173.0     5       16575.0   \n",
       "199033    179        4.0  ...     0     1079.0     5       13656.0   \n",
       "199034    147       12.5  ...     0     4113.0     3       16575.0   \n",
       "199035    176       15.0  ...     0     5017.0             13656.0   \n",
       "199036      0        3.0  ...     0     2459.0     4        2070.0   \n",
       "\n",
       "        brand_price_max  brand_price_median  brand_price_min  brand_price_sum  \\\n",
       "0               35990.0              1800.0             13.0       36457518.0   \n",
       "1               84000.0              6399.0             15.0      124044603.0   \n",
       "2               45000.0              8500.0            100.0       14373814.0   \n",
       "3               92900.0              5200.0             15.0      113034210.0   \n",
       "4               31500.0              2300.0             20.0       15414322.0   \n",
       "...                 ...                 ...              ...              ...   \n",
       "199032          99999.0              5999.0             12.0      138279069.0   \n",
       "199033          84000.0              6399.0             15.0      124044603.0   \n",
       "199034          99999.0              5999.0             12.0      138279069.0   \n",
       "199035          84000.0              6399.0             15.0      124044603.0   \n",
       "199036          99999.0              2270.0             30.0       10017173.0   \n",
       "\n",
       "        brand_price_std  brand_price_average  \n",
       "0           4562.233331              3576.37  \n",
       "1           8988.865406              9082.86  \n",
       "2           5425.058140              9851.83  \n",
       "3           8244.695287              8076.76  \n",
       "4           3344.689763              3305.67  \n",
       "...                 ...                  ...  \n",
       "199032      8089.863295              8342.13  \n",
       "199033      8988.865406              9082.86  \n",
       "199034      8089.863295              8342.13  \n",
       "199035      8988.865406              9082.86  \n",
       "199036      6053.233424              4836.88  \n",
       "\n",
       "[199037 rows x 41 columns]"
      ]
     },
     "execution_count": 43,
     "metadata": {},
     "output_type": "execute_result"
    }
   ],
   "source": [
    "# 计算某品牌的销售统计量，同学们还可以计算其他特征的统计量\n",
    "# 这里要以 train 的数据计算统计量\n",
    "train_gb = train.groupby(\"brand\")\n",
    "all_info = {}\n",
    "for kind, kind_data in train_gb:\n",
    "    info = {}\n",
    "    kind_data = kind_data[kind_data['price'] > 0]\n",
    "    info['brand_amount'] = len(kind_data)\n",
    "    info['brand_price_max'] = kind_data.price.max()\n",
    "    info['brand_price_median'] = kind_data.price.median()\n",
    "    info['brand_price_min'] = kind_data.price.min()\n",
    "    info['brand_price_sum'] = kind_data.price.sum()\n",
    "    info['brand_price_std'] = kind_data.price.std()\n",
    "    info['brand_price_average'] = round(kind_data.price.sum() / (len(kind_data) + 1), 2)\n",
    "    all_info[kind] = info\n",
    "brand_fe = pd.DataFrame(all_info).T.reset_index().rename(columns={\"index\": \"brand\"})\n",
    "data = data.merge(brand_fe, how='left', on='brand')\n",
    "data"
   ]
  },
  {
   "cell_type": "markdown",
   "metadata": {},
   "source": [
    "### 3.3.2.2 数据分桶"
   ]
  },
  {
   "cell_type": "code",
   "execution_count": 44,
   "metadata": {
    "scrolled": false
   },
   "outputs": [
    {
     "data": {
      "text/html": [
       "<div>\n",
       "<style scoped>\n",
       "    .dataframe tbody tr th:only-of-type {\n",
       "        vertical-align: middle;\n",
       "    }\n",
       "\n",
       "    .dataframe tbody tr th {\n",
       "        vertical-align: top;\n",
       "    }\n",
       "\n",
       "    .dataframe thead th {\n",
       "        text-align: right;\n",
       "    }\n",
       "</style>\n",
       "<table border=\"1\" class=\"dataframe\">\n",
       "  <thead>\n",
       "    <tr style=\"text-align: right;\">\n",
       "      <th></th>\n",
       "      <th>power_bin</th>\n",
       "      <th>power</th>\n",
       "    </tr>\n",
       "  </thead>\n",
       "  <tbody>\n",
       "    <tr>\n",
       "      <th>0</th>\n",
       "      <td>5.0</td>\n",
       "      <td>60</td>\n",
       "    </tr>\n",
       "    <tr>\n",
       "      <th>1</th>\n",
       "      <td>NaN</td>\n",
       "      <td>0</td>\n",
       "    </tr>\n",
       "    <tr>\n",
       "      <th>2</th>\n",
       "      <td>16.0</td>\n",
       "      <td>163</td>\n",
       "    </tr>\n",
       "    <tr>\n",
       "      <th>3</th>\n",
       "      <td>19.0</td>\n",
       "      <td>193</td>\n",
       "    </tr>\n",
       "    <tr>\n",
       "      <th>4</th>\n",
       "      <td>6.0</td>\n",
       "      <td>68</td>\n",
       "    </tr>\n",
       "  </tbody>\n",
       "</table>\n",
       "</div>"
      ],
      "text/plain": [
       "   power_bin  power\n",
       "0        5.0     60\n",
       "1        NaN      0\n",
       "2       16.0    163\n",
       "3       19.0    193\n",
       "4        6.0     68"
      ]
     },
     "execution_count": 44,
     "metadata": {},
     "output_type": "execute_result"
    }
   ],
   "source": [
    "# 数据分桶 以 power 为例\n",
    "# 这时候我们的缺失值也进桶了，\n",
    "# LightGBM 在改进 XGBoost 时就增加了数据分桶，增强了模型的泛化性\n",
    "\n",
    "bin = [i*10 for i in range(31)]\n",
    "data['power_bin'] = pd.cut(data['power'], bin, labels=False)\n",
    "data[['power_bin', 'power']].head()"
   ]
  },
  {
   "cell_type": "code",
   "execution_count": 45,
   "metadata": {},
   "outputs": [],
   "source": [
    "# 利用好了，就可以删掉原始数据了\n",
    "data = data.drop(['creatDate', 'regDate', 'regionCode'], axis=1)"
   ]
  },
  {
   "cell_type": "code",
   "execution_count": 46,
   "metadata": {},
   "outputs": [
    {
     "name": "stdout",
     "output_type": "stream",
     "text": [
      "(199037, 39)\n"
     ]
    }
   ],
   "source": [
    "print(data.shape)"
   ]
  },
  {
   "cell_type": "code",
   "execution_count": 47,
   "metadata": {},
   "outputs": [],
   "source": [
    "# 目前的数据其实已经可以给树模型使用了，所以我们导出一下\n",
    "data.to_csv('data_for_tree.csv', index=0)"
   ]
  },
  {
   "cell_type": "markdown",
   "metadata": {},
   "source": [
    "## 3.3.3 特征变换"
   ]
  },
  {
   "cell_type": "markdown",
   "metadata": {},
   "source": [
    "### 3.3.3.1 标准化"
   ]
  },
  {
   "cell_type": "markdown",
   "metadata": {},
   "source": [
    "### 3.3.3.2 归一化"
   ]
  },
  {
   "cell_type": "code",
   "execution_count": 48,
   "metadata": {},
   "outputs": [
    {
     "data": {
      "text/plain": [
       "<AxesSubplot:ylabel='Frequency'>"
      ]
     },
     "execution_count": 48,
     "metadata": {},
     "output_type": "execute_result"
    },
    {
     "data": {
      "image/png": "[encoded data removed]",
      "text/plain": [
       "<Figure size 432x288 with 1 Axes>"
      ]
     },
     "metadata": {
      "needs_background": "light"
     },
     "output_type": "display_data"
    }
   ],
   "source": [
    "# 我们可以再构造一份特征给 LR NN 之类的模型用\n",
    "# 之所以分开构造是因为，不同模型对数据集的要求不同\n",
    "# 我们看下数据分布：\n",
    "data['power'].plot.hist()"
   ]
  },
  {
   "cell_type": "code",
   "execution_count": 49,
   "metadata": {},
   "outputs": [
    {
     "data": {
      "text/plain": [
       "<AxesSubplot:ylabel='Frequency'>"
      ]
     },
     "execution_count": 49,
     "metadata": {},
     "output_type": "execute_result"
    },
    {
     "data": {
      "image/png": "[encoded data removed]",
      "text/plain": [
       "<Figure size 432x288 with 1 Axes>"
      ]
     },
     "metadata": {
      "needs_background": "light"
     },
     "output_type": "display_data"
    }
   ],
   "source": [
    "# 我们刚刚已经对 train 进行异常值处理了，但是现在还有这么奇怪的分布是因为 test 中的 power 异常值，\n",
    "# 所以我们其实刚刚 train 中的 power 异常值不删为好，可以用长尾分布截断来代替\n",
    "train['power'].plot.hist()"
   ]
  },
  {
   "cell_type": "code",
   "execution_count": 50,
   "metadata": {},
   "outputs": [
    {
     "data": {
      "text/plain": [
       "<AxesSubplot:ylabel='Frequency'>"
      ]
     },
     "execution_count": 50,
     "metadata": {},
     "output_type": "execute_result"
    },
    {
     "data": {
      "image/png": "[encoded data removed]",
      "text/plain": [
       "<Figure size 432x288 with 1 Axes>"
      ]
     },
     "metadata": {
      "needs_background": "light"
     },
     "output_type": "display_data"
    }
   ],
   "source": [
    "# 我们对其取 log，在做归一化\n",
    "from sklearn import preprocessing\n",
    "min_max_scaler = preprocessing.MinMaxScaler()\n",
    "data['power'] = np.log(data['power'] + 1) \n",
    "data['power'] = ((data['power'] - np.min(data['power'])) / (np.max(data['power']) - np.min(data['power'])))\n",
    "data['power'].plot.hist()"
   ]
  },
  {
   "cell_type": "code",
   "execution_count": 51,
   "metadata": {},
   "outputs": [
    {
     "data": {
      "text/plain": [
       "<AxesSubplot:ylabel='Frequency'>"
      ]
     },
     "execution_count": 51,
     "metadata": {},
     "output_type": "execute_result"
    },
    {
     "data": {
      "image/png": "[encoded data removed]",
      "text/plain": [
       "<Figure size 432x288 with 1 Axes>"
      ]
     },
     "metadata": {
      "needs_background": "light"
     },
     "output_type": "display_data"
    }
   ],
   "source": [
    "# km 的比较正常，应该是已经做过分桶了\n",
    "data['kilometer'].plot.hist()"
   ]
  },
  {
   "cell_type": "code",
   "execution_count": 52,
   "metadata": {},
   "outputs": [
    {
     "data": {
      "text/plain": [
       "<AxesSubplot:ylabel='Frequency'>"
      ]
     },
     "execution_count": 52,
     "metadata": {},
     "output_type": "execute_result"
    },
    {
     "data": {
      "image/png": "[encoded data removed]",
      "text/plain": [
       "<Figure size 432x288 with 1 Axes>"
      ]
     },
     "metadata": {
      "needs_background": "light"
     },
     "output_type": "display_data"
    }
   ],
   "source": [
    "# 所以我们可以直接做归一化\n",
    "data['kilometer'] = ((data['kilometer'] - np.min(data['kilometer'])) / \n",
    "                        (np.max(data['kilometer']) - np.min(data['kilometer'])))\n",
    "data['kilometer'].plot.hist()"
   ]
  },
  {
   "cell_type": "code",
   "execution_count": 53,
   "metadata": {},
   "outputs": [],
   "source": [
    "# 除此之外 还有我们刚刚构造的统计量特征：\n",
    "# 'brand_amount', 'brand_price_average', 'brand_price_max',\n",
    "# 'brand_price_median', 'brand_price_min', 'brand_price_std',\n",
    "# 'brand_price_sum'\n",
    "# 这里不再一一举例分析了，直接做变换，\n",
    "def max_min(x):\n",
    "    return (x - np.min(x)) / (np.max(x) - np.min(x))\n",
    "\n",
    "data['brand_amount'] = ((data['brand_amount'] - np.min(data['brand_amount'])) / \n",
    "                        (np.max(data['brand_amount']) - np.min(data['brand_amount'])))\n",
    "data['brand_price_average'] = ((data['brand_price_average'] - np.min(data['brand_price_average'])) / \n",
    "                               (np.max(data['brand_price_average']) - np.min(data['brand_price_average'])))\n",
    "data['brand_price_max'] = ((data['brand_price_max'] - np.min(data['brand_price_max'])) / \n",
    "                           (np.max(data['brand_price_max']) - np.min(data['brand_price_max'])))\n",
    "data['brand_price_median'] = ((data['brand_price_median'] - np.min(data['brand_price_median'])) /\n",
    "                              (np.max(data['brand_price_median']) - np.min(data['brand_price_median'])))\n",
    "data['brand_price_min'] = ((data['brand_price_min'] - np.min(data['brand_price_min'])) / \n",
    "                           (np.max(data['brand_price_min']) - np.min(data['brand_price_min'])))\n",
    "data['brand_price_std'] = ((data['brand_price_std'] - np.min(data['brand_price_std'])) / \n",
    "                           (np.max(data['brand_price_std']) - np.min(data['brand_price_std'])))\n",
    "data['brand_price_sum'] = ((data['brand_price_sum'] - np.min(data['brand_price_sum'])) / \n",
    "                           (np.max(data['brand_price_sum']) - np.min(data['brand_price_sum'])))"
   ]
  },
  {
   "cell_type": "markdown",
   "metadata": {},
   "source": [
    "### 3.3.3.3 定性变量编码"
   ]
  },
  {
   "cell_type": "code",
   "execution_count": 54,
   "metadata": {},
   "outputs": [
    {
     "name": "stdout",
     "output_type": "stream",
     "text": [
      "[ 0.  1. nan]\n",
      "[ 5. nan 16. 19.  6. 10. 14. 17.  8.  7. 12. 23.  4. 11. 21. 13. 15. 29.\n",
      " 18. 20.  9. 22.  3. 28. 27. 25. 26. 24.  2.  0.  1.]\n"
     ]
    }
   ],
   "source": [
    "# 对类别特征进行 OneEncoder\n",
    "print(data['gearbox'].unique())\n",
    "print(data['power_bin'].unique())\n",
    "data = pd.get_dummies(data, columns=['model', 'brand', 'bodyType', 'fuelType',\n",
    "                                     'gearbox', 'notRepairedDamage', 'power_bin'])\n",
    "\n"
   ]
  },
  {
   "cell_type": "code",
   "execution_count": 55,
   "metadata": {},
   "outputs": [],
   "source": [
    "# 这份数据可以给 LR 用\n",
    "data.to_csv('data_for_lr.csv', index=0)"
   ]
  },
  {
   "cell_type": "markdown",
   "metadata": {},
   "source": [
    "## 3.3.4 特征筛选"
   ]
  },
  {
   "cell_type": "markdown",
   "metadata": {},
   "source": [
    "### 1) 相关性分析"
   ]
  },
  {
   "cell_type": "code",
   "execution_count": 56,
   "metadata": {},
   "outputs": [
    {
     "name": "stdout",
     "output_type": "stream",
     "text": [
      "0.5728285196051496\n",
      "-0.4082569701616764\n",
      "0.058156610025581514\n",
      "0.3834909576057687\n",
      "0.259066833880992\n",
      "0.38691042393409447\n",
      "-0.00015639043312168583\n",
      "-0.0331671970428921\n",
      "0.5728285196051496\n",
      "-0.4082569701616764\n",
      "-0.0044467306238327965\n",
      "nan\n",
      "0.9999999999999998\n",
      "0.8716973856857912\n",
      "0.1544847405265102\n",
      "0.5948212156321502\n",
      "-0.9245146434893411\n",
      "-0.1422614886264826\n",
      "0.3467511210338197\n",
      "0.423718485266458\n",
      "0.017919840617126096\n",
      "0.8345037542288406\n",
      "-0.2280963313655153\n",
      "-0.5080689137845775\n",
      "-0.40598354577910767\n",
      "0.858756866714708\n",
      "0.05942061021646212\n",
      "0.18998622886448566\n",
      "nan\n",
      "-0.7856835984626908\n"
     ]
    },
    {
     "name": "stderr",
     "output_type": "stream",
     "text": [
      "E:\\01_Application\\Anaconda3\\lib\\site-packages\\scipy\\stats\\stats.py:245: RuntimeWarning: The input array could not be properly checked for nan values. nan values will be ignored.\n",
      "  \"values. nan values will be ignored.\", RuntimeWarning)\n"
     ]
    },
    {
     "name": "stdout",
     "output_type": "stream",
     "text": [
      "0.005789605423319473\n",
      "0.058156610025581514\n",
      "0.259066833880992\n",
      "0.38691042393409447\n",
      "-0.007786046341405899\n",
      "0.142507378301978\n",
      "0.344200447531545\n",
      "0.3834909576057687\n",
      "-0.017680335651499447\n",
      "-0.0905970551422537\n",
      "0.025189662052926755\n",
      "0.004096994790854643\n",
      "0.04369728234928264\n",
      "-0.030328330774757904\n",
      "0.02083818018608036\n",
      "-0.03624292023781498\n",
      "0.007705525455810499\n",
      "0.021201184211253263\n",
      "-0.11014895115440124\n",
      "-0.021405511560858834\n",
      "0.048832417474147904\n",
      "0.07597666950288672\n",
      "-0.05175149622776245\n",
      "-0.025342892457379466\n",
      "-0.07950825222151743\n",
      "0.06121609487146274\n",
      "-0.016051989191545504\n",
      "-0.013814309355384169\n",
      "0.03635366899179851\n",
      "-0.006379519843879123\n",
      "-0.06592428009731068\n",
      "0.11412859757201402\n",
      "0.053712861213274614\n",
      "0.0035611940466743707\n",
      "-0.0655425990682167\n",
      "0.02879303063841237\n",
      "0.009415758796310195\n",
      "-0.1046905635398235\n",
      "-0.06969634242742788\n",
      "0.0370528820953978\n",
      "-0.05269894695537316\n",
      "0.02200572306137246\n",
      "0.01998110923841807\n",
      "-0.034365374804622435\n",
      "-0.05980708381152028\n",
      "0.00128044819272264\n",
      "0.03843899683814468\n",
      "-0.03418776025964399\n",
      "0.0515412633497568\n",
      "-0.08082719722055633\n",
      "0.05974283202229989\n",
      "0.05560504463286097\n",
      "0.0761462844260102\n",
      "-0.012783801655696765\n",
      "-0.03344030091624692\n",
      "0.06538072714913014\n",
      "-0.14138384691631356\n",
      "0.06774321861993018\n",
      "0.0038205917444647883\n",
      "-0.06477652508413481\n",
      "0.05847080351603044\n",
      "0.031780500014647294\n",
      "-0.056048051968365854\n",
      "-0.01990624556751619\n",
      "0.03950571974928\n",
      "0.056329515138454474\n",
      "0.022524769406386203\n",
      "-0.043176822488642796\n",
      "-0.016338950560855138\n",
      "0.021290007949133466\n",
      "0.04560485795195985\n",
      "0.06715714594797512\n",
      "-0.018950613688707943\n",
      "0.05828455812712449\n",
      "-0.03460160775454378\n",
      "-0.0716768321858869\n",
      "-0.01971501536809606\n",
      "-0.06245955912453371\n",
      "-0.03726589121975986\n",
      "-0.022953250761353648\n",
      "0.0021799470697006305\n",
      "-0.0880981567595185\n",
      "-0.012935298246471006\n",
      "0.059435956356931795\n",
      "0.07425065842201282\n",
      "0.01991162296571817\n",
      "-0.016371978463794963\n",
      "0.019071502707877098\n",
      "-0.005743447093533545\n",
      "0.0262400550777914\n",
      "0.04985296982237625\n",
      "0.021000140839443075\n",
      "-0.025291204808201684\n",
      "0.025946313670029093\n",
      "0.03391593388685084\n",
      "0.03861800732004286\n",
      "-0.003662079695597932\n",
      "0.013670419052633685\n",
      "0.008349317594175534\n",
      "-0.008047339876481565\n",
      "-0.025610351129941\n",
      "0.024403388182596814\n",
      "0.002271288214544592\n",
      "-0.003999048658499211\n",
      "0.05768549191069993\n",
      "-0.0006415728600650899\n",
      "0.029971456298956464\n",
      "0.005799765210470163\n",
      "-0.03486863376057128\n",
      "0.03899875264652341\n",
      "-0.0018132808376871835\n",
      "0.004230277465714635\n",
      "0.10750649405788816\n",
      "0.08447565232761195\n",
      "-0.009404615762386258\n",
      "3.993422427883554e-05\n",
      "0.04849352942084243\n",
      "0.03655009394134361\n",
      "-0.05460833491225914\n",
      "0.015112542675704973\n",
      "0.018373873843802194\n",
      "0.05905067997645884\n",
      "0.014308352884296495\n",
      "0.07887257629136919\n",
      "0.03841433688521211\n",
      "-0.00855287063960736\n",
      "0.03155562093299831\n",
      "-0.04158647452930121\n",
      "-0.01123109855695079\n",
      "0.03458707294532505\n",
      "-0.03587536180541227\n",
      "-0.024253977841814236\n",
      "0.02198082881033142\n",
      "0.04763553628640155\n",
      "0.01740790679550534\n",
      "0.007243363342840711\n",
      "0.022194298786649105\n",
      "0.052058598676274194\n",
      "-0.03737354475235862\n",
      "0.0027716180659450875\n",
      "-0.01381574215512364\n",
      "-0.020504143594838313\n",
      "0.02540246478478075\n",
      "0.047016377777607844\n",
      "0.019738858319339615\n",
      "-0.003133450807943029\n",
      "0.021221819057191962\n",
      "0.04738174872275053\n",
      "-0.000560755918270017\n",
      "-0.012701985233874799\n",
      "0.03440145930648701\n",
      "-0.029588842310494204\n",
      "0.008366253402866576\n",
      "0.031168577074826575\n",
      "0.00858678669744419\n",
      "-0.021319345258788976\n",
      "-0.02901318416006846\n",
      "-0.01641481415486236\n",
      "-0.009651183616243272\n",
      "0.014622206508270189\n",
      "-0.02273702119742731\n",
      "0.02908489203472293\n",
      "0.016018234264438515\n",
      "0.01211278239369001\n",
      "0.012896126838659455\n",
      "0.017686442492269513\n",
      "0.017064466196345537\n",
      "0.0016345244638044537\n",
      "-0.0008768526209228886\n",
      "-0.0011656702798616399\n",
      "0.006312896502673849\n",
      "-0.03191839455546224\n",
      "-0.05506423132371261\n",
      "0.034701311695686264\n",
      "-0.00576735503855573\n",
      "0.06681636581691794\n",
      "-0.01776648196667078\n",
      "-0.006327229155206548\n",
      "-0.023363080692489095\n",
      "0.022110476336505706\n",
      "-0.01605282055569182\n",
      "0.02212259565377058\n",
      "0.03895915454890351\n",
      "0.04657924165691669\n",
      "0.009761662373614474\n",
      "0.0064615769896697395\n",
      "-0.004075640657279539\n",
      "0.005996427309157849\n",
      "-0.003663397563952005\n",
      "0.003507656921834554\n",
      "0.014991242742148258\n",
      "-0.01850441313977912\n",
      "0.018537933637028128\n",
      "-0.021036147778471705\n",
      "-0.014055000970033734\n",
      "-0.013685079117061799\n",
      "-0.008608098362798917\n",
      "0.01389108472232553\n",
      "0.014140222197070267\n",
      "0.017051157190289042\n",
      "0.049091251884055026\n",
      "0.014413900564455299\n",
      "0.014901157320775224\n",
      "0.027768631176778965\n",
      "0.04178358361612799\n",
      "0.02560172586521872\n",
      "-0.013245496063859113\n",
      "0.027234234657223758\n",
      "0.00878419905532686\n",
      "0.02431140453479307\n",
      "0.023062363290471535\n",
      "0.007887380693622879\n",
      "0.0071415771699031546\n",
      "-0.0128692716749837\n",
      "0.02925344511548803\n",
      "0.007043690164443125\n",
      "0.02673770349082365\n",
      "-0.004557780668726238\n",
      "-0.002836282533861459\n",
      "-0.01401153869773108\n",
      "0.011060502003164647\n",
      "-0.007357089717500323\n",
      "0.0007973729102708898\n",
      "0.009289827452290941\n",
      "-0.016659018463532013\n",
      "0.0206669838880824\n",
      "0.02795898427647174\n",
      "0.02480262420085632\n",
      "0.010407521924338735\n",
      "-0.02369892930337667\n",
      "0.035462798074030896\n",
      "-0.012076953682268493\n",
      "0.003456711708537663\n",
      "0.01910635274547361\n",
      "0.02108772006061299\n",
      "0.007108967174170946\n",
      "-0.0029719414827805895\n",
      "-0.0002232080519560413\n",
      "0.017173584547814567\n",
      "-0.015450994521943972\n",
      "-0.003704572023959664\n",
      "0.014223149322182205\n",
      "-0.015679249362448605\n",
      "-0.004890361686161199\n",
      "0.009427846644162673\n",
      "-2.0934111294752148e-05\n",
      "0.004468787778417706\n",
      "0.002711383191719983\n",
      "0.0025101416493105407\n",
      "0.0026345994841920515\n",
      "-0.004712899031318575\n",
      "-0.006582453419451746\n",
      "-0.00156514286905429\n",
      "0.004685992264430046\n",
      "-0.005079041142449838\n",
      "-0.00013017082828938273\n",
      "-0.0021566235377186264\n",
      "0.14805399867630936\n",
      "0.0365979563969643\n",
      "0.0437613054017195\n",
      "0.15633512585970294\n",
      "-0.058041121977907714\n",
      "-0.11192280729291318\n",
      "-0.0263135590401585\n",
      "-0.02384458417091486\n",
      "-0.14260674970603643\n",
      "0.12716757424714348\n",
      "-0.017184789863348114\n",
      "-0.01614670153804602\n",
      "-0.08367426488671903\n",
      "-0.16558300760939187\n",
      "0.09092385015198541\n",
      "-0.009700994656389522\n",
      "-0.021579032039226967\n",
      "-0.01128128104396387\n",
      "-0.01023071619336085\n",
      "-0.03814215006279141\n",
      "0.016028175689074393\n",
      "0.014185782406846821\n",
      "-0.022934588912559783\n",
      "0.09864850377084758\n",
      "-0.028622111178652643\n",
      "0.020892553844401546\n",
      "0.019714072987648452\n",
      "0.011148706782188359\n",
      "0.022353447207552123\n",
      "-0.00781053214730686\n",
      "-0.038749601744807044\n",
      "-0.014115669449831789\n",
      "0.020049723142811112\n",
      "-0.04295569767559611\n",
      "-0.033705252401851196\n",
      "-0.0122766900624771\n",
      "0.04639877053871523\n",
      "-0.003580682993916903\n",
      "-0.0021790450970649894\n",
      "0.035872274633802465\n",
      "-0.29053125653916306\n",
      "0.03583046225212743\n",
      "0.08918676501443788\n",
      "0.14293279145432683\n",
      "0.08265781126270104\n",
      "0.19881389660971452\n",
      "-0.024597703176519808\n",
      "-0.2689900901980164\n",
      "0.3625830538930833\n",
      "-0.0039031515177387678\n",
      "0.008166770037304613\n",
      "0.026082456336825818\n",
      "-0.008027186913159264\n",
      "0.007628024346349649\n",
      "-0.2312675949213389\n",
      "0.30252536721960466\n",
      "-0.22417773026895424\n",
      "0.359812871223773\n",
      "-0.25418107363182735\n",
      "-0.004262150120513584\n",
      "-0.001202308584548956\n",
      "-0.007827145194616686\n",
      "-0.04944165263766085\n",
      "-0.16801663679970927\n",
      "-0.26619905540593375\n",
      "-0.03965824041623359\n",
      "-0.1633993439693418\n",
      "-0.0676981637574522\n",
      "-0.014057149352827772\n",
      "-0.02153471260821719\n",
      "-0.033329412339426684\n",
      "0.014216178149773818\n",
      "0.11727865583193782\n",
      "0.07190893548509587\n",
      "0.0943345118434442\n",
      "0.13856656730076017\n",
      "0.13405724220173748\n",
      "0.14271693488906628\n",
      "0.07046287464369541\n",
      "0.0923544018893818\n",
      "0.10984515832008251\n",
      "0.09514039980723761\n",
      "0.15194599855191723\n",
      "0.10531263766829371\n",
      "0.06745983566216528\n",
      "0.07141331856999697\n",
      "0.0787674732267034\n",
      "0.05514532132438931\n",
      "0.0610402568755874\n"
     ]
    }
   ],
   "source": [
    "# 相关性分析\n",
    "# del Train_data[\"seller\"]\n",
    "# del Train_data[\"offerType\"]\n",
    "# del Test_data[\"seller\"]\n",
    "# del Test_data[\"offerType\"]\n",
    "\n",
    "\n",
    "print(data['power'].corr(data['price'], method='spearman'))\n",
    "print(data['kilometer'].corr(data['price'], method='spearman'))\n",
    "print(data['brand_amount'].corr(data['price'], method='spearman'))\n",
    "print(data['brand_price_average'].corr(data['price'], method='spearman'))\n",
    "print(data['brand_price_max'].corr(data['price'], method='spearman'))\n",
    "print(data['brand_price_median'].corr(data['price'], method='spearman'))\n",
    "\n",
    "\n",
    "for col in data.columns:\n",
    "    print(data[col].corr(data['price'], method='spearman'))"
   ]
  },
  {
   "cell_type": "markdown",
   "metadata": {},
   "source": [
    "### 2) 特征重要性评分"
   ]
  },
  {
   "cell_type": "markdown",
   "metadata": {},
   "source": [
    "## 3.4 经验总结"
   ]
  },
  {
   "cell_type": "markdown",
   "metadata": {},
   "source": [
    "特征工程是比赛中最至关重要的的一块，特别的传统的比赛，大家的模型可能都差不多，调参带来的效果增幅是非常有限的，但特征工程的好坏往往会决定了最终的排名和成绩。\n",
    "\n",
    "特征工程的主要目的还是在于将数据转换为能更好地表示潜在问题的特征，从而提高机器学习的性能。比如，异常值处理是为了去除噪声，填补缺失值可以加入先验知识等。\n",
    "\n",
    "特征构造也属于特征工程的一部分，其目的是为了增强数据的表达。\n",
    "\n",
    "有些比赛的特征是匿名特征，这导致我们并不清楚特征相互直接的关联性，这时我们就只有单纯基于特征进行处理，比如装箱，groupby，agg 等这样一些操作进行一些特征统计，此外还可以对特征进行进一步的 log，exp 等变换，或者对多个特征进行四则运算（如上面我们算出的使用时长），多项式组合等然后进行筛选。由于特性的匿名性其实限制了很多对于特征的处理，当然有些时候用 NN 去提取一些特征也会达到意想不到的良好效果。\n",
    "\n",
    "对于知道特征含义（非匿名）的特征工程，特别是在工业类型比赛中，会基于信号处理，频域提取，丰度，偏度等构建更为有实际意义的特征，这就是结合背景的特征构建，在推荐系统中也是这样的，各种类型点击率统计，各时段统计，加用户属性的统计等等，这样一种特征构建往往要深入分析背后的业务逻辑或者说物理原理，从而才能更好的找到 magic。\n",
    "\n",
    "当然特征工程其实是和模型结合在一起的，这就是为什么要为 LR NN 做分桶和特征归一化的原因，而对于特征的处理效果和特征重要性等往往要通过模型来验证。\n",
    "\n",
    "总的来说，特征工程是一个入门简单，但想精通非常难的一件事。"
   ]
  }
 ],
 "metadata": {
  "kernelspec": {
   "display_name": "Python 3",
   "language": "python",
   "name": "python3"
  },
  "language_info": {
   "codemirror_mode": {
    "name": "ipython",
    "version": 3
   },
   "file_extension": ".py",
   "mimetype": "text/x-python",
   "name": "python",
   "nbconvert_exporter": "python",
   "pygments_lexer": "ipython3",
   "version": "3.7.4"
  }
 },
 "nbformat": 4,
 "nbformat_minor": 4
}
